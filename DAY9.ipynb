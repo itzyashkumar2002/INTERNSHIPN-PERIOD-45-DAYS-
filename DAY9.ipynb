{
  "nbformat": 4,
  "nbformat_minor": 0,
  "metadata": {
    "colab": {
      "provenance": [],
      "gpuType": "T4"
    },
    "kernelspec": {
      "name": "python3",
      "display_name": "Python 3"
    },
    "language_info": {
      "name": "python"
    },
    "accelerator": "GPU"
  },
  "cells": [
    {
      "cell_type": "code",
      "execution_count": null,
      "metadata": {
        "id": "qPOrVfowgf8I"
      },
      "outputs": [],
      "source": [
        "#OBJECT ORIENTED PROGRAMMING\n",
        "\n",
        "#class , object or instances are same\n"
      ]
    },
    {
      "cell_type": "code",
      "source": [
        "class Student:\n",
        "  pass\n",
        "\n",
        "# obj=student()\n",
        "#object or instances intilization is done"
      ],
      "metadata": {
        "id": "X1zuHggrt6mC"
      },
      "execution_count": null,
      "outputs": []
    },
    {
      "cell_type": "code",
      "source": [
        "class student:\n",
        "  #proprtites\n",
        "  #class variables\n",
        "  student_name=[\"mohit\",\"rohit\",\"jasprit\",\"ronak\"]\n",
        "  student_class=3\n",
        "  student_branch=\"computer science engineering\"\n",
        "  collage_name=\"IIT LUCKNOW\"\n",
        "\n",
        "obj=student()\n",
        "obj.student_name"
      ],
      "metadata": {
        "colab": {
          "base_uri": "https://localhost:8080/"
        },
        "id": "-gr0K39ut6jw",
        "outputId": "7fff4c04-6aca-459d-f2be-a475281413e9"
      },
      "execution_count": null,
      "outputs": [
        {
          "output_type": "execute_result",
          "data": {
            "text/plain": [
              "['mohit', 'rohit', 'jasprit', 'ronak']"
            ]
          },
          "metadata": {},
          "execution_count": 8
        }
      ]
    },
    {
      "cell_type": "code",
      "source": [
        "#branch change option type\n",
        "\n",
        "class student:\n",
        "  #proprtites\n",
        "  #class variables\n",
        "  student_name=[\"mohit\",\"rohit\",\"jasprit\",\"ronak\"]\n",
        "  student_class=3\n",
        "  student_branch=\"computer science engineering\"\n",
        "  collage_name=\"IIT LUCKNOW\"\n",
        "\n",
        "obj=student()\n",
        "obj.student_branch=\"mechanical\"\n",
        "obj.student_branch"
      ],
      "metadata": {
        "colab": {
          "base_uri": "https://localhost:8080/",
          "height": 36
        },
        "id": "Oc4M5yDet59S",
        "outputId": "2cab58f8-7ae2-46a7-809d-260fdfee0911"
      },
      "execution_count": null,
      "outputs": [
        {
          "output_type": "execute_result",
          "data": {
            "text/plain": [
              "'mechanical'"
            ],
            "application/vnd.google.colaboratory.intrinsic+json": {
              "type": "string"
            }
          },
          "metadata": {},
          "execution_count": 22
        }
      ]
    },
    {
      "cell_type": "code",
      "source": [
        "#instance vaiables\n",
        "class student:\n",
        "  collage_name=\"IIT LUCKNOW\"\n",
        "\n",
        "  #constructor to create or initilize the instance variable\n",
        "  def __init__(self):\n",
        "    #instance variables\n",
        "    self.student_name=[\"mohit\",\"rohit\",\"jasprit\",\"ronak\"]\n",
        "    self.student_class=3\n",
        "    self.student_branch=\"computer science engineering\"\n",
        "    print(\"constructor executed\")\n",
        "\n",
        "stud_obj =student()\n",
        "stud_obj.student_name\n",
        "stud_obj.collage_name\n",
        "print( obj.student_name,obj.collage_name)"
      ],
      "metadata": {
        "colab": {
          "base_uri": "https://localhost:8080/"
        },
        "id": "9uZ7fmjFzCiW",
        "outputId": "d17a7ba0-de78-47f4-e1ac-ce6fecf39b36"
      },
      "execution_count": null,
      "outputs": [
        {
          "output_type": "stream",
          "name": "stdout",
          "text": [
            "constructor executed\n",
            "['mohit', 'rohit', 'jasprit', 'ronak'] IIT LUCKNOW\n"
          ]
        }
      ]
    },
    {
      "cell_type": "code",
      "source": [
        "#constructor it is spcl kind of function or method\n",
        "#self is constructor\n",
        "#u dont need to call construct\n",
        "#constructor executes whwn you will create an object\n",
        "def __init__(self):\n",
        "  return a + b"
      ],
      "metadata": {
        "id": "vG-cugtLzCgA"
      },
      "execution_count": null,
      "outputs": []
    },
    {
      "cell_type": "code",
      "source": [
        "#instance vaiables\n",
        "class student:\n",
        "  #class variables\n",
        "  collage_name=\"IIT LUCKNOW\"\n",
        "\n",
        "  #constructor to create or initilize the instance variable\n",
        "  def __init__(self,name,clas,branch):\n",
        "    #instance variables\n",
        "    self.student_name= name\n",
        "    self.student_class=clas\n",
        "    self.student_branch=branch\n",
        "    print(\"constructor executed\")\n",
        "\n",
        "first_year=student(name=[\"rohit\",\"mohit\"],clas=1,branch=\"cse\")\n",
        "second_year=student(name=[\"rakesh\",\"pruhit\"],clas=2,branch=\"cse\")\n",
        "third_year=student(name=[\"papu\",\"bhola\"],clas=3,branch=\"cse\")\n",
        "\n",
        "# print(first_year.student_name)\n",
        "# print(second_year.student_name)\n",
        "# print(third_year.student_name)\n",
        "\n",
        "# print(first_year.student_class)\n",
        "# print(second_year.student_class)\n",
        "# print(third_year.student_class)\n",
        "\n",
        "len(second_year.student_name)"
      ],
      "metadata": {
        "colab": {
          "base_uri": "https://localhost:8080/"
        },
        "id": "i16imZDvslJl",
        "outputId": "1308d5f5-8870-48db-ad7b-8c3a178b453e"
      },
      "execution_count": null,
      "outputs": [
        {
          "output_type": "stream",
          "name": "stdout",
          "text": [
            "constructor executed\n",
            "constructor executed\n",
            "constructor executed\n"
          ]
        },
        {
          "output_type": "execute_result",
          "data": {
            "text/plain": [
              "2"
            ]
          },
          "metadata": {},
          "execution_count": 11
        }
      ]
    },
    {
      "cell_type": "code",
      "source": [
        "#function or methods to count the lenght\n",
        "\n",
        "#instance vaiables\n",
        "class student:\n",
        "  #class variables\n",
        "  collage_name=\"IIT LUCKNOW\"\n",
        "\n",
        "  #constructor to create or initilize the instance variable\n",
        "  def __init__(self,name,clas,branch,marks):\n",
        "    #instance variables\n",
        "    self.student_name= name         #list\n",
        "    self.student_class=clas\n",
        "    self.student_branch=branch\n",
        "    self.marks=marks\n",
        "    print(\"constructor executed\")\n",
        "\n",
        "  #functions or method\n",
        "  # def no__of__student(self):\n",
        "  #   count = len(self.student_name)\n",
        "  #   print(\"your no.of student is:\",count)\n",
        "    # def my_len(self):\n",
        "    #     count=0\n",
        "    #     for item in self.student_name:\n",
        "    #        count+=1\n",
        "\n",
        "\n",
        "    # print(my_len())\n",
        "\n",
        "\n",
        "first_year=student(name=[\"rohit\",\"mohit\"],clas=1,branch=\"cse\", marks=[41,51,4,5,63,45,34,24,90,56,89,66,8])\n",
        "second_year=student(name=[\"rakesh\",\"pruhi\",\"rahul\",\"tamana\"],clas=2,branch=\"cse\",marks=[41,51,4,5,63,45,34,24,90,56,89,66,8])\n",
        "third_year=student(name=[\"papu\",\"bhola\"],clas=3,branch=\"cse\",marks=[41,51,4,5,63,45,34,24,90,56,89,66,8])\n",
        "\n",
        "# first_year.no__of__student()\n",
        "# second_year.no__of__student()\n",
        "# third_year.no__of__student()\n",
        "\n",
        "\n",
        "# self.student_name  # it reference to the object"
      ],
      "metadata": {
        "colab": {
          "base_uri": "https://localhost:8080/"
        },
        "id": "z9v8828JslHP",
        "outputId": "7d60d56c-0ae6-4e27-a975-00f7b7fde90c"
      },
      "execution_count": null,
      "outputs": [
        {
          "output_type": "stream",
          "name": "stdout",
          "text": [
            "constructor executed\n",
            "constructor executed\n",
            "constructor executed\n"
          ]
        }
      ]
    },
    {
      "cell_type": "code",
      "source": [
        "#quiz\n",
        "\n",
        "\n",
        "#instance vaiables\n",
        "class student:\n",
        "  #class variables\n",
        "  collage_name=\"IIT LUCKNOW\"\n",
        "\n",
        "  #constructor to create or initilize the instance variable\n",
        "  def __init__(self,name,clas,branch,marks):\n",
        "    #instance variables\n",
        "    self.student_name= name         #list\n",
        "    self.student_class=clas\n",
        "    self.student_branch=branch\n",
        "    self.student_marks=marks\n",
        "    print(\"constructor executed\")\n",
        "\n",
        "  def pass_or_fail_program(self):\n",
        "    no_of_fail_student =0\n",
        "    no_of_pass_student =0\n",
        "\n",
        "    for item in self.student_marks:\n",
        "        if item >=30:\n",
        "          print(\"pass:\",item)\n",
        "          no_of_pass_student +=1\n",
        "        else:\n",
        "          print(\"fail:\",item)\n",
        "          no_of_fail_student +=1\n",
        "\n",
        "    print(\"your fail students are :\",no_of_fail_student )\n",
        "    print(\"your pass students are :\",no_of_pass_student)\n",
        "first_year=student(name=[\"rohit\",\"mohit\"],clas=1,branch=\"cse\", marks=[41,51,4,5,63,45,34,24,90,56,89,66,8])\n",
        "second_year=student(name=[\"rakesh\",\"pruhi\",\"rahul\",\"tamana\"],clas=2,branch=\"cse\",marks=[45,45,76,90,76,54,87])\n",
        "third_year=student(name=[\"papu\",\"bhola\"],clas=3,branch=\"cse\",marks=[47,67,23,89,56,53,89])\n",
        "\n",
        "first_year.pass_or_fail_program()\n",
        "second_year.pass_or_fail_program()\n",
        "third_year.pass_or_fail_program()"
      ],
      "metadata": {
        "colab": {
          "base_uri": "https://localhost:8080/"
        },
        "id": "JdnjFRMbslFE",
        "outputId": "57b0771e-82c2-47fe-a75f-af8d2729583f"
      },
      "execution_count": null,
      "outputs": [
        {
          "output_type": "stream",
          "name": "stdout",
          "text": [
            "constructor executed\n",
            "constructor executed\n",
            "constructor executed\n",
            "pass: 41\n",
            "pass: 51\n",
            "fail: 4\n",
            "fail: 5\n",
            "pass: 63\n",
            "pass: 45\n",
            "pass: 34\n",
            "fail: 24\n",
            "pass: 90\n",
            "pass: 56\n",
            "pass: 89\n",
            "pass: 66\n",
            "fail: 8\n",
            "your fail students are : 4\n",
            "your pass students are : 9\n",
            "pass: 45\n",
            "pass: 45\n",
            "pass: 76\n",
            "pass: 90\n",
            "pass: 76\n",
            "pass: 54\n",
            "pass: 87\n",
            "your fail students are : 0\n",
            "your pass students are : 7\n",
            "pass: 47\n",
            "pass: 67\n",
            "fail: 23\n",
            "pass: 89\n",
            "pass: 56\n",
            "pass: 53\n",
            "pass: 89\n",
            "your fail students are : 1\n",
            "your pass students are : 6\n"
          ]
        }
      ]
    }
  ]
}