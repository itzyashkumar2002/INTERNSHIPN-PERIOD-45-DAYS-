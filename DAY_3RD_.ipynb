{
  "nbformat": 4,
  "nbformat_minor": 0,
  "metadata": {
    "colab": {
      "provenance": [],
      "gpuType": "T4"
    },
    "kernelspec": {
      "name": "python3",
      "display_name": "Python 3"
    },
    "language_info": {
      "name": "python"
    },
    "accelerator": "GPU"
  },
  "cells": [
    {
      "cell_type": "code",
      "execution_count": null,
      "metadata": {
        "id": "0HZl2Z6LRcJQ"
      },
      "outputs": [],
      "source": [
        "##TUPPLE  it is saame as the list but having some differente .   securly use data\n",
        "#perenthesisi is used().  diif data we can store.  varient of list can store data in multiple ways but we cant be change due to it cant\n",
        " #be change   in the datA where is mutable\n",
        "#IMUTABLE chaNGES NOT DONE\n",
        "\n",
        "#TUPPLE  ACCESSING ALLOWED\n",
        "\n",
        "#DELETION AND INSERTION  NOT CHANGED"
      ]
    },
    {
      "cell_type": "code",
      "source": [
        "tpl=(10,38,\"upflairs\",True,10.67)\n",
        "# print(tpl)\n",
        "# print(type(tpl))\n",
        "# print(tpl[3])\n",
        "# print(tpl[1:3])                #accessing is allowed\n",
        "\n",
        "# tpl[2]=\"don\"\n",
        "# print(tpl)                    #changes are not\n",
        "tpl.count(1)\n",
        "# print(tpl)\n",
        "\n",
        "\n",
        "# tpl.index()\n",
        "# print(tpl)\n"
      ],
      "metadata": {
        "id": "9DLS_ikXxSWc",
        "colab": {
          "base_uri": "https://localhost:8080/"
        },
        "outputId": "5a22c41b-445f-4815-df1f-ed5fa4d2abca"
      },
      "execution_count": 3,
      "outputs": [
        {
          "output_type": "execute_result",
          "data": {
            "text/plain": [
              "1"
            ]
          },
          "metadata": {},
          "execution_count": 3
        }
      ]
    },
    {
      "cell_type": "code",
      "source": [
        "#set   curly bracket{}\n",
        "\n",
        "# multiple item and type store\n",
        "# duplicates are not allowed\n",
        "# unordered like no particular position ,no indexing\n",
        "# immmutable changes are not allowed\n",
        "# set acesssing are not allowed\n",
        "#insertion and deletion is allowed\n",
        "\n",
        "\n",
        "st={10,20,30,85,15,True,\"upflairs\"}\n",
        "print(st)\n",
        "print(type(st))"
      ],
      "metadata": {
        "id": "f4B6rrY9xSUN",
        "colab": {
          "base_uri": "https://localhost:8080/"
        },
        "outputId": "21762e21-4e8c-4e51-d997-e2834cd5ca2d"
      },
      "execution_count": null,
      "outputs": [
        {
          "output_type": "stream",
          "name": "stdout",
          "text": [
            "{True, 20, 85, 10, 'upflairs', 30, 15}\n",
            "<class 'set'>\n"
          ]
        }
      ]
    },
    {
      "cell_type": "code",
      "source": [
        "st={10,20,30,85,55 ,41,56,999,786,555}           #  insertion is allowed\n",
        "st.add(1000)\n",
        "print(st)"
      ],
      "metadata": {
        "id": "Uw43xOutxSRj",
        "colab": {
          "base_uri": "https://localhost:8080/"
        },
        "outputId": "283affd2-f9d1-4246-a1bd-fd3f8e879203"
      },
      "execution_count": null,
      "outputs": [
        {
          "output_type": "stream",
          "name": "stdout",
          "text": [
            "{999, 1000, 41, 10, 555, 786, 20, 85, 55, 56, 30}\n"
          ]
        }
      ]
    },
    {
      "cell_type": "code",
      "source": [
        "st={10,20,30,85,55 ,41,56,999,786,555}\n",
        "# st.remove(65)                 #key errore is there if value is not present in the statement\n",
        "st.remove(555)\n",
        "print(st)\n",
        "\n",
        "st={10,20,30,85,55 ,41,56,999,786,555}\n",
        "# st.discard(45)                                            #if there is no value is present then it canot give erroe\n",
        "st.discard(55)\n",
        "print(st)"
      ],
      "metadata": {
        "id": "zrupfzeBxSMl",
        "colab": {
          "base_uri": "https://localhost:8080/"
        },
        "outputId": "eaf2ea00-5407-4e8b-eb34-501bf3f1aa52"
      },
      "execution_count": null,
      "outputs": [
        {
          "output_type": "stream",
          "name": "stdout",
          "text": [
            "{999, 41, 10, 786, 20, 85, 55, 56, 30}\n",
            "{999, 41, 10, 555, 786, 20, 85, 56, 30}\n"
          ]
        }
      ]
    },
    {
      "cell_type": "code",
      "source": [
        "# st1={10,20,30,85,55 ,41,56,999,786,555}\n",
        "# st2={11,88,10,20,40,1000,2980}\n",
        "# st1.update(st2)                              #here no duplicates are allowed in the output\n",
        "# print(st1)\n",
        "\n",
        "st1={10,20,30,85,55 }\n",
        "st2={11,88,10,20,40,}\n",
        "st1.intersection(st2)\n",
        "print(st1)\n"
      ],
      "metadata": {
        "id": "RHYsKDiYxSKP",
        "colab": {
          "base_uri": "https://localhost:8080/"
        },
        "outputId": "f11ccca6-a887-48dc-d938-b8ad47cc541c"
      },
      "execution_count": null,
      "outputs": [
        {
          "output_type": "stream",
          "name": "stdout",
          "text": [
            "{20, 85, 55, 10, 30}\n"
          ]
        }
      ]
    },
    {
      "cell_type": "code",
      "source": [
        "#dictionary  (key:value)  pairs updated set\n",
        "#  {0  (key)       :   10  (value)}\n",
        "\n",
        "#  unorded without any index value value be written anywhere\n",
        "#  key in dictionay is unique\n",
        "#  we can add and modify should be unique\n",
        "\n",
        "\n",
        "\n",
        "dt={\"A\":10,\"B\":20,\"C\":30,\"D\":40,\"E\":50}\n",
        "#print(dt[\"C\"])\n",
        "# print(dt.keys())\n",
        "# print(dt.values())\n",
        "dt.pop(\"C\")\n",
        "print(dt)                   #delete the value of key item\n",
        "# dt[\"D\"]=300\n",
        "# print(dt)                 #repace the item\n",
        "# dt[\"f\"]=344\n",
        "# print(dt)         #  new key will be added which ius not present in statement\n",
        "\n"
      ],
      "metadata": {
        "id": "NSAswR7uRfti",
        "colab": {
          "base_uri": "https://localhost:8080/"
        },
        "outputId": "dde0d7e6-cdd9-45b5-bbf8-034c5667291d"
      },
      "execution_count": null,
      "outputs": [
        {
          "output_type": "stream",
          "name": "stdout",
          "text": [
            "{'A': 10, 'B': 20, 'D': 40, 'E': 50}\n"
          ]
        }
      ]
    },
    {
      "cell_type": "code",
      "source": [
        "dt1={\"A\":10,\"B\":20,\"C\":30,\"D\":40,\"E\":50}\n",
        "dt2={\"E\":90,\"G\":89,\"H\":67}\n",
        "dt1.update(dt2)\n",
        "print(dt1)"
      ],
      "metadata": {
        "id": "0CnY32-mRfrE",
        "colab": {
          "base_uri": "https://localhost:8080/"
        },
        "outputId": "64189c0c-4754-4073-d772-c3b4b592380f"
      },
      "execution_count": null,
      "outputs": [
        {
          "output_type": "stream",
          "name": "stdout",
          "text": [
            "{'A': 10, 'B': 20, 'C': 30, 'D': 40, 'E': 90, 'G': 89, 'H': 67}\n"
          ]
        }
      ]
    },
    {
      "cell_type": "code",
      "source": [
        "students1={\"name\":[\"maohit\",\"rohit\",\"kaloo\",\"pappu\",\"baabu\"], \"marks\":[41,54,65,89,13], \"subject\":\"physics\"}\n",
        "students2={\"subject\":\"chemistry\"}\n",
        "students1.update(students2)\n",
        "print(students1)\n"
      ],
      "metadata": {
        "id": "dKzgTaaGRfoY",
        "colab": {
          "base_uri": "https://localhost:8080/"
        },
        "outputId": "dcd783ba-a04d-45da-ab90-5ad7f4db3e56"
      },
      "execution_count": null,
      "outputs": [
        {
          "output_type": "stream",
          "name": "stdout",
          "text": [
            "{'name': ['maohit', 'rohit', 'kaloo', 'pappu', 'baabu'], 'marks': [41, 54, 65, 89, 13], 'subject': 'chemistry'}\n"
          ]
        }
      ]
    }
  ]
}