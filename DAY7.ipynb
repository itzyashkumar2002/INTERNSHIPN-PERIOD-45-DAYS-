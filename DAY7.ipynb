{
  "nbformat": 4,
  "nbformat_minor": 0,
  "metadata": {
    "colab": {
      "provenance": [],
      "gpuType": "T4"
    },
    "kernelspec": {
      "name": "python3",
      "display_name": "Python 3"
    },
    "language_info": {
      "name": "python"
    },
    "accelerator": "GPU"
  },
  "cells": [
    {
      "cell_type": "code",
      "execution_count": null,
      "metadata": {
        "colab": {
          "base_uri": "https://localhost:8080/"
        },
        "id": "Xi9etavvOF1S",
        "outputId": "95b08460-7394-42d7-b18f-144a88a8946d"
      },
      "outputs": [
        {
          "output_type": "stream",
          "name": "stdout",
          "text": [
            "50\n",
            "141\n",
            "1045\n"
          ]
        }
      ],
      "source": [
        "#<<<<<<<<<< functions >>>>>>>\n",
        "\n",
        "#   input---> (BLOCK OF CODES) -----> output\n",
        "#   aceessing method be known as calling\n",
        "#   FUNCTION:- DEFINATION  AND CALLING\n",
        "#   def (keyword)\n",
        "#   function are of two types (builtin or inbuilt) and user defined\n",
        "#BUILT IN:-append , extend ,pop\n",
        "\n",
        "\n",
        "\n",
        "#USER DEFINED jo hum khud s krter h\n",
        "\n",
        "# def add_two():\n",
        "#   num1=10\n",
        "#   num2=20\n",
        "#   result=num1+num2\n",
        "#   return result\n",
        "\n",
        "#calling\n",
        "# output =add_two()\n",
        "# print (output)\n",
        "\n",
        "# output2 =add_two()              #modulearity features\n",
        "# print (output2)\n",
        "\n",
        "def add_two(num1,num2):      #parameters\n",
        "\n",
        "  result=num1+num2\n",
        "  return result\n",
        "\n",
        "#calling\n",
        "output = add_two(num1=25,num2=25)\n",
        "print(output)\n",
        "\n",
        "output = add_two(num1=56,num2=85)\n",
        "print(output)\n",
        "\n",
        "output = add_two(num1=1000,num2=45)\n",
        "print(output)"
      ]
    },
    {
      "cell_type": "code",
      "source": [
        "ls=[41,255,2,5,3,6,63,96,85,74,65]\n",
        "def my_len(ls_input):\n",
        "  count=0\n",
        "  for item in ls:\n",
        "    count+=1\n",
        "  return count\n",
        "\n",
        "# print(my_len())\n",
        "# print(len(ls))\n",
        "\n",
        "#\n",
        "# print(output)\n",
        "#always use this type of command which make readable and makeable understandable\n"
      ],
      "metadata": {
        "colab": {
          "base_uri": "https://localhost:8080/"
        },
        "id": "SdfzgKaoU2lZ",
        "outputId": "9767c974-c36b-47a2-ced1-0f2978c34517"
      },
      "execution_count": null,
      "outputs": [
        {
          "output_type": "stream",
          "name": "stdout",
          "text": [
            "50\n"
          ]
        }
      ]
    },
    {
      "cell_type": "code",
      "source": [
        "#practice question\n",
        "\n",
        "ls = [41,25,63,96,85,74,54,65,85,2,5,3,6]\n",
        "\n",
        "def average_finder(ls):\n",
        "  total_sum=0\n",
        "\n",
        "  for item in ls:\n",
        "    total_sum+=item\n",
        "    average=total_sum/len(ls)\n",
        "  return average\n",
        "\n",
        "#calling\n",
        "output= average_finder(ls)\n",
        "print(output)\n",
        "\n"
      ],
      "metadata": {
        "colab": {
          "base_uri": "https://localhost:8080/"
        },
        "id": "Ge2PWAj0U2bk",
        "outputId": "49319ec0-d55e-4f86-8db1-f2d57bc5e52c"
      },
      "execution_count": null,
      "outputs": [
        {
          "output_type": "stream",
          "name": "stdout",
          "text": [
            "46.46153846153846\n"
          ]
        }
      ]
    },
    {
      "cell_type": "code",
      "source": [
        "# MODULE\n",
        " # day6.py----> module\n"
      ],
      "metadata": {
        "id": "o-cxwJIMU2Ru"
      },
      "execution_count": null,
      "outputs": []
    }
  ]
}