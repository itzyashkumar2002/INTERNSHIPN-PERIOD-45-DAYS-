{
  "nbformat": 4,
  "nbformat_minor": 0,
  "metadata": {
    "colab": {
      "provenance": [],
      "gpuType": "T4"
    },
    "kernelspec": {
      "name": "python3",
      "display_name": "Python 3"
    },
    "language_info": {
      "name": "python"
    },
    "accelerator": "GPU"
  },
  "cells": [
    {
      "cell_type": "code",
      "execution_count": null,
      "metadata": {
        "colab": {
          "base_uri": "https://localhost:8080/"
        },
        "id": "rLjTVoSn_5ql",
        "outputId": "21d6366f-99bc-4876-b949-e07bc4512a84"
      },
      "outputs": [
        {
          "output_type": "stream",
          "name": "stdout",
          "text": [
            "hello world\n"
          ]
        }
      ],
      "source": [
        "print(\"hello world\")"
      ]
    },
    {
      "cell_type": "code",
      "source": [
        "num1=100\n",
        "print(num1)\n",
        "print(type(num1))"
      ],
      "metadata": {
        "colab": {
          "base_uri": "https://localhost:8080/"
        },
        "id": "uecMBYSkAE5l",
        "outputId": "d4c2b312-eb20-448f-d616-ebee4eb66417"
      },
      "execution_count": null,
      "outputs": [
        {
          "output_type": "stream",
          "name": "stdout",
          "text": [
            "100\n",
            "<class 'int'>\n"
          ]
        }
      ]
    },
    {
      "cell_type": "code",
      "source": [
        "num1=100.25\n",
        "print(num1)\n",
        "print (type(num1))"
      ],
      "metadata": {
        "id": "5-8bgH6WAE3P",
        "colab": {
          "base_uri": "https://localhost:8080/"
        },
        "outputId": "9d952fc3-9016-4c5d-8ece-4fb407819cf8"
      },
      "execution_count": null,
      "outputs": [
        {
          "output_type": "stream",
          "name": "stdout",
          "text": [
            "100.25\n",
            "<class 'float'>\n"
          ]
        }
      ]
    },
    {
      "cell_type": "code",
      "source": [
        "var1=True\n",
        "var2=False\n",
        "print(var1)\n",
        "print(var2)\n",
        "print (type(var1))\n",
        "print(type(var2))\n"
      ],
      "metadata": {
        "id": "-VfI2QiHAE08",
        "colab": {
          "base_uri": "https://localhost:8080/"
        },
        "outputId": "edc5a00b-4611-49a0-f157-d304bc682bf6"
      },
      "execution_count": null,
      "outputs": [
        {
          "output_type": "stream",
          "name": "stdout",
          "text": [
            "True\n",
            "False\n",
            "<class 'bool'>\n",
            "<class 'bool'>\n"
          ]
        }
      ]
    }
  ]
}