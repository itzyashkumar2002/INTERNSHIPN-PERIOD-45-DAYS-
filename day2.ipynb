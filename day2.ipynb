{
  "nbformat": 4,
  "nbformat_minor": 0,
  "metadata": {
    "colab": {
      "provenance": []
    },
    "kernelspec": {
      "name": "python3",
      "display_name": "Python 3"
    },
    "language_info": {
      "name": "python"
    }
  },
  "cells": [
    {
      "cell_type": "code",
      "execution_count": null,
      "metadata": {
        "colab": {
          "base_uri": "https://localhost:8080/"
        },
        "id": "9xkyeKs3M_F7",
        "outputId": "6d259500-7d60-42cb-840e-83bfe5082227"
      },
      "outputs": [
        {
          "output_type": "stream",
          "name": "stdout",
          "text": [
            "UPFLAIRS\n",
            "<class 'str'>\n"
          ]
        }
      ],
      "source": [
        "#string data types variables rules\n",
        "#var=\n",
        "#a-z,A-Z,0-9,_\n",
        "\n",
        "# age=12\n",
        "# Age=56\n",
        "# AGE=34\n",
        "\n",
        "st=\"UPFLAIRS\"\n",
        "print(st)\n",
        "print(type(st))\n"
      ]
    },
    {
      "cell_type": "code",
      "source": [
        "#to find the value  in the string by taking as an number\n",
        "st=\"UPFLAIRS\"\n",
        "print(st[4])"
      ],
      "metadata": {
        "colab": {
          "base_uri": "https://localhost:8080/"
        },
        "id": "s0hcCyP8ZfOk",
        "outputId": "f29ed808-8586-4e8d-d34c-8de1750998f3"
      },
      "execution_count": null,
      "outputs": [
        {
          "output_type": "stream",
          "name": "stdout",
          "text": [
            "A\n"
          ]
        }
      ]
    },
    {
      "cell_type": "code",
      "source": [
        "#string start and ending point                    // forward and negative string system\n",
        "st=\"UPFLAIRS\"\n",
        "print(st[4:7])\n",
        "\n",
        "st2=\"upflairs pyt ltd jaipur rajasthan\"\n",
        "print (st2[17:23])"
      ],
      "metadata": {
        "colab": {
          "base_uri": "https://localhost:8080/"
        },
        "id": "1aT7idR1ZfMQ",
        "outputId": "d4fae9d4-2393-4132-cd8d-669036e1d6dd"
      },
      "execution_count": null,
      "outputs": [
        {
          "output_type": "stream",
          "name": "stdout",
          "text": [
            "AIR\n",
            "jaipur\n"
          ]
        }
      ]
    },
    {
      "cell_type": "code",
      "source": [
        "# find the value by the help of positive and negative indexing\n",
        "st=\"upflairs\"\n",
        "print(st[-1])\n",
        "print(st[7])\n",
        "\n",
        "\n",
        "st=\"upflairs pvt ltd jaipur rajasthan\"\n",
        "print(st[-16:-10])                                   #neagtive indexing (-infinity to -1)\n",
        "print(st[:8])\n",
        "print(st[:])"
      ],
      "metadata": {
        "colab": {
          "base_uri": "https://localhost:8080/"
        },
        "id": "-wPhy2GDZfFM",
        "outputId": "6c639f8e-7852-4370-9ab7-5db169a23967"
      },
      "execution_count": null,
      "outputs": [
        {
          "output_type": "stream",
          "name": "stdout",
          "text": [
            "s\n",
            "s\n",
            "jaipur\n",
            "upflairs\n",
            "upflairs pvt ltd jaipur rajasthan\n"
          ]
        }
      ]
    },
    {
      "cell_type": "code",
      "source": [
        "# jumping statement means to jump the values by 2-many more                          [start : ending : jumping]\n",
        "st=\"upflairs pvt ltd jaipur rajasthan\"\n",
        "print(st[::1])\n",
        "print(st[::])\n",
        "print(st[::2])                                    #values jump by 2 ex:-upflair ufar\n",
        "print(st[::3])"
      ],
      "metadata": {
        "colab": {
          "base_uri": "https://localhost:8080/"
        },
        "id": "xg9H_R--ZfAO",
        "outputId": "ae5a35c2-73e1-47e3-80ef-73a2f6d7b587"
      },
      "execution_count": null,
      "outputs": [
        {
          "output_type": "stream",
          "name": "stdout",
          "text": [
            "upflairs pvt ltd jaipur rajasthan\n",
            "upflairs pvt ltd jaipur rajasthan\n",
            "ufar v t aprrjshn\n",
            "ulrp daurah\n"
          ]
        }
      ]
    },
    {
      "cell_type": "code",
      "source": [
        "# revese string                           to reverse the order of vlues\n",
        "st=\"upflairs pvt ltd jaipur rajasthan\"\n",
        "print(st[::-1])"
      ],
      "metadata": {
        "colab": {
          "base_uri": "https://localhost:8080/"
        },
        "id": "B3sx6LohZe9w",
        "outputId": "b2380bf5-36c3-4f16-a857-d5b02c0f24da"
      },
      "execution_count": null,
      "outputs": [
        {
          "output_type": "stream",
          "name": "stdout",
          "text": [
            "nahtsajar rupiaj dtl tvp srialfpu\n"
          ]
        }
      ]
    },
    {
      "cell_type": "code",
      "source": [
        "#no. of character count lenghth\n",
        "\n",
        "st=\"upflairs pvt ltd jaipur rajasthan\"\n",
        "print(len(st))\n"
      ],
      "metadata": {
        "colab": {
          "base_uri": "https://localhost:8080/"
        },
        "id": "x_v1tK1jZe7O",
        "outputId": "bdf2e6bd-71d3-47ac-acf2-eb8df5a5e57a"
      },
      "execution_count": null,
      "outputs": [
        {
          "output_type": "stream",
          "name": "stdout",
          "text": [
            "33\n"
          ]
        }
      ]
    },
    {
      "cell_type": "code",
      "source": [
        "# upper and lower case as an charcter count the no.also\n",
        "st=\"upflairs pvt ltd jaipur rajasthan \"\n",
        "st2=\"UPFLAIRS PVT LTD JAIPUR RAJASTHAN\"\n",
        "print (st. upper())\n",
        "print (st. lower())\n",
        "print(st.count('r'))\n",
        "print(st.index('t'))\n",
        "print(st.replace(\"upflairs\",\"flipkart\"))"
      ],
      "metadata": {
        "colab": {
          "base_uri": "https://localhost:8080/"
        },
        "id": "6jo_xpocZe40",
        "outputId": "48e28dc6-9778-4e79-c80c-6d0c8f7bdd71"
      },
      "execution_count": null,
      "outputs": [
        {
          "output_type": "stream",
          "name": "stdout",
          "text": [
            "UPFLAIRS PVT LTD JAIPUR RAJASTHAN \n",
            "upflairs pvt ltd jaipur rajasthan \n",
            "3\n",
            "11\n",
            "flipkart pvt ltd jaipur rajasthan \n"
          ]
        }
      ]
    },
    {
      "cell_type": "code",
      "source": [
        "# list in python  <<<<<<<<<<<<,list>>>>>>>>>>>\n",
        "\n",
        "ls=[10,20.8,\"UPFLAIRS\",True,500]\n",
        "print(ls)\n",
        "print(type(ls))\n"
      ],
      "metadata": {
        "colab": {
          "base_uri": "https://localhost:8080/"
        },
        "id": "uXG1f7JOZe2S",
        "outputId": "33e75dbb-c2da-417a-dbd1-e799cd917d9e"
      },
      "execution_count": null,
      "outputs": [
        {
          "output_type": "stream",
          "name": "stdout",
          "text": [
            "[10, 20.8, 'UPFLAIRS', True, 500]\n",
            "<class 'list'>\n"
          ]
        }
      ]
    },
    {
      "cell_type": "code",
      "source": [
        "student_name=['MUSKAN','NAVYA','LAKSHIKA','YASH']\n",
        "print(student_name[0])\n",
        "print(student_name[1])\n",
        "print(student_name[-1])"
      ],
      "metadata": {
        "colab": {
          "base_uri": "https://localhost:8080/"
        },
        "id": "qDjbmr7fZez8",
        "outputId": "544ea3ae-bace-4359-f4e6-7c64189c7821"
      },
      "execution_count": null,
      "outputs": [
        {
          "output_type": "stream",
          "name": "stdout",
          "text": [
            "MUSKAN\n",
            "NAVYA\n",
            "YASH\n"
          ]
        }
      ]
    },
    {
      "cell_type": "code",
      "source": [
        "# list to find the no.betwwen first and last string point\n",
        "ls=['A','B','C','D','E','F','G']\n",
        "print(ls[0:4])\n",
        "print(ls[5:])\n",
        "print(ls[-2:])\n",
        "print(ls[7:])"
      ],
      "metadata": {
        "colab": {
          "base_uri": "https://localhost:8080/"
        },
        "id": "hBn8_CjbZexF",
        "outputId": "d74e37b7-1c79-44e5-b5b7-6bb3fd67af96"
      },
      "execution_count": null,
      "outputs": [
        {
          "output_type": "stream",
          "name": "stdout",
          "text": [
            "['A', 'B', 'C', 'D']\n",
            "['F', 'G']\n",
            "['F', 'G']\n",
            "[]\n"
          ]
        }
      ]
    },
    {
      "cell_type": "code",
      "source": [
        "#for replacing list\n",
        "\n",
        "ls=['A','B','C','D','E','F','G']\n",
        "ls[3]='YASH'\n",
        "print(ls)"
      ],
      "metadata": {
        "colab": {
          "base_uri": "https://localhost:8080/"
        },
        "id": "WjCEIAo1ZenZ",
        "outputId": "db5f6f72-90d5-4bd5-c149-66aaf5cff0a2"
      },
      "execution_count": null,
      "outputs": [
        {
          "output_type": "stream",
          "name": "stdout",
          "text": [
            "['A', 'B', 'C', 'YASH', 'E', 'F', 'G']\n"
          ]
        }
      ]
    },
    {
      "cell_type": "code",
      "source": [
        "#STORE IN YOUR LIST   at the end store or insrt the elements\n",
        "\n",
        "ls=['a','b','c','d']\n",
        "ls.append(\"i\")                       #end insrt\n",
        "print(ls)\n",
        "ls.pop()                                #at the last element will be deleted\n",
        "print(ls)\n",
        "ls.insert(2,'upflairs')               #insert we can from anywhere\n",
        "print(ls)\n",
        "ls.remove('d')\n",
        "print(ls)                                 #here we can delete any of the element"
      ],
      "metadata": {
        "colab": {
          "base_uri": "https://localhost:8080/"
        },
        "id": "tga671rwoKVY",
        "outputId": "8c8fd2f9-391b-4463-ba05-f1b0159e7184"
      },
      "execution_count": null,
      "outputs": [
        {
          "output_type": "stream",
          "name": "stdout",
          "text": [
            "['a', 'b', 'c', 'd', 'i']\n",
            "['a', 'b', 'c', 'd']\n",
            "['a', 'b', 'upflairs', 'c', 'd']\n",
            "['a', 'b', 'upflairs', 'c']\n"
          ]
        }
      ]
    },
    {
      "cell_type": "code",
      "source": [
        "# TO REMOVE SOME ELEMENTS IN THE LIST\n",
        "\n",
        "ls=['a sharma','b kumar','c khanna']\n",
        "ls.remove('b kumar')\n",
        "print (ls)\n",
        "\n",
        "ls=['a sharma','b kumar','c khanna']\n",
        "del ls[2]\n",
        "print(ls)"
      ],
      "metadata": {
        "colab": {
          "base_uri": "https://localhost:8080/"
        },
        "id": "7mvDzX5RZeYn",
        "outputId": "e0953c2f-b1ef-4aa8-e2b3-a616308b75b0"
      },
      "execution_count": null,
      "outputs": [
        {
          "output_type": "stream",
          "name": "stdout",
          "text": [
            "['a sharma', 'c khanna']\n",
            "['a sharma', 'b kumar']\n"
          ]
        }
      ]
    },
    {
      "cell_type": "code",
      "source": [
        " #dono list ko iktha likhta h by aappend condition\n",
        "\n",
        "ls1=['a','b','c','d','e','f','g']\n",
        "ls2=['i','j','k']\n",
        "ls1.append(ls2)\n",
        "print(ls1)\n",
        "\n",
        "ls1=['a','b','c','d','e','f','g']\n",
        "ls2=['i','j','k']\n",
        "ls1.extend(ls2)\n",
        "print (ls1)"
      ],
      "metadata": {
        "colab": {
          "base_uri": "https://localhost:8080/"
        },
        "id": "sNjVegk_pRHb",
        "outputId": "c38b5cb2-0f73-4851-de81-f040f94e150d"
      },
      "execution_count": null,
      "outputs": [
        {
          "output_type": "stream",
          "name": "stdout",
          "text": [
            "['a', 'b', 'c', 'd', 'e', 'f', 'g', ['i', 'j', 'k']]\n",
            "['a', 'b', 'c', 'd', 'e', 'f', 'g', 'i', 'j', 'k']\n"
          ]
        }
      ]
    },
    {
      "cell_type": "code",
      "source": [
        "# reverse a list\n",
        "ls1=['a','b','d']\n",
        "ls1.reverse()\n",
        "print(ls1)"
      ],
      "metadata": {
        "id": "GFZjSjDcpRFQ",
        "colab": {
          "base_uri": "https://localhost:8080/"
        },
        "outputId": "89e172eb-5bab-43d0-abac-cc68ad9cc53e"
      },
      "execution_count": null,
      "outputs": [
        {
          "output_type": "stream",
          "name": "stdout",
          "text": [
            "['d', 'b', 'a']\n"
          ]
        }
      ]
    },
    {
      "cell_type": "code",
      "source": [
        "#copy a list\n",
        "# ls1=['r','y','w']\n",
        "# ls2=ls1\n",
        "# ls2[1]='upflairs'\n",
        "# print(ls1)\n",
        "# print(ls2)\n",
        "\n",
        "\n",
        "ls1=[24,56,67,69,90]\n",
        "# ls2=[24,56,67]\n",
        "ls2=ls1\n",
        "ls2[4]=\"upflairs\"\n",
        "print(ls1)\n",
        "print(ls2)"
      ],
      "metadata": {
        "id": "5Gl59WoGpRDO",
        "colab": {
          "base_uri": "https://localhost:8080/"
        },
        "outputId": "059dcdb7-0e1f-4b54-c380-97c120922b70"
      },
      "execution_count": null,
      "outputs": [
        {
          "output_type": "stream",
          "name": "stdout",
          "text": [
            "[24, 56, 67, 69, 'upflairs']\n",
            "[24, 56, 67, 69, 'upflairs']\n"
          ]
        }
      ]
    },
    {
      "cell_type": "code",
      "source": [
        "#sort a list\n",
        "ls2=['r','y','w']\n",
        "ls2.sort()\n",
        "print(ls2)"
      ],
      "metadata": {
        "id": "UsM3p_1EpRBL",
        "colab": {
          "base_uri": "https://localhost:8080/"
        },
        "outputId": "8ebbcb7b-d6c4-461d-cce0-e3ac7c4a6ea6"
      },
      "execution_count": null,
      "outputs": [
        {
          "output_type": "stream",
          "name": "stdout",
          "text": [
            "['r', 'w', 'y']\n"
          ]
        }
      ]
    },
    {
      "cell_type": "code",
      "source": [
        "# TO CLEAR A LIST\n",
        "ls2=['r','y','w']\n",
        "ls2.clear()\n",
        "print(ls2)\n"
      ],
      "metadata": {
        "id": "FJmVpkFbpQ_U",
        "colab": {
          "base_uri": "https://localhost:8080/"
        },
        "outputId": "f0a54d25-93ff-4301-d629-8ea5fb582421"
      },
      "execution_count": null,
      "outputs": [
        {
          "output_type": "stream",
          "name": "stdout",
          "text": [
            "[]\n"
          ]
        }
      ]
    },
    {
      "cell_type": "code",
      "source": [
        "#   revision time\n",
        "\n",
        "# st=\"UPFLAIRS\"\n",
        "# print(st)\n",
        "# print (type(st))\n",
        "\n",
        "st=\"upflairs pvt ltd jaipur rajasthan \"\n",
        "st1=\"UPFLAIRS PVT LTD \"\n",
        "print(st[4])\n",
        "print(st[0:19])\n",
        "print(st[::4])\n",
        "print(st.upper())\n",
        "print(st1.lower())\n",
        "print(st.count('t'))\n",
        "print(st.index('i'))\n",
        "print(st.replace('upflairs','yash'))\n",
        "print(len(st))\n",
        "print(st[::-1])\n",
        "\n"
      ],
      "metadata": {
        "id": "-STAR2R8pQ9l",
        "colab": {
          "base_uri": "https://localhost:8080/"
        },
        "outputId": "a4315a01-ce91-4206-f48b-a38dab697690"
      },
      "execution_count": null,
      "outputs": [
        {
          "output_type": "stream",
          "name": "stdout",
          "text": [
            "a\n",
            "upflairs pvt ltd ja\n",
            "ua   prsn\n",
            "UPFLAIRS PVT LTD JAIPUR RAJASTHAN \n",
            "upflairs pvt ltd \n",
            "3\n",
            "5\n",
            "yash pvt ltd jaipur rajasthan \n",
            "34\n",
            " nahtsajar rupiaj dtl tvp srialfpu\n"
          ]
        }
      ]
    },
    {
      "cell_type": "code",
      "source": [
        "# ls=[10,True,123.768,'yash']\n",
        "# print(ls)\n",
        "# print(type(ls))\n",
        "# print(ls[3])\n",
        "# print(ls[::2])\n",
        "# print(ls[0:3])\n",
        "# ls[3]='muskan'\n",
        "# print(ls)\n",
        "\n",
        "ls=['a','y','g','r','t']\n",
        "ls1=['b','h','yash']\n",
        "# ls.append('e')\n",
        "# print(ls)\n",
        "# ls.pop()\n",
        "# print(ls)\n",
        "# ls.insert(2,'yash')\n",
        "# print(ls)\n",
        "# del ls[2]\n",
        "# print(ls)\n",
        "# ls.sort()\n",
        "# print(ls)\n",
        "# ls.reverse()\n",
        "# print(ls)\n",
        "# ls.clear()\n",
        "# print(ls)\n",
        "ls.extend(ls1)\n",
        "print(ls)\n"
      ],
      "metadata": {
        "id": "Y_AAyJslpQ6z",
        "colab": {
          "base_uri": "https://localhost:8080/"
        },
        "outputId": "dbcda47d-9e18-4015-e7fe-3bf14ff966f6"
      },
      "execution_count": null,
      "outputs": [
        {
          "output_type": "stream",
          "name": "stdout",
          "text": [
            "['a', 'y', 'g', 'r', 't', 'b', 'h', 'yash']\n"
          ]
        }
      ]
    }
  ]
}