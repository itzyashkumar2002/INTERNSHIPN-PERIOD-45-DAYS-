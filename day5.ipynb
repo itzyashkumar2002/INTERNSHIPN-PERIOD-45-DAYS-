{
  "nbformat": 4,
  "nbformat_minor": 0,
  "metadata": {
    "colab": {
      "provenance": [],
      "gpuType": "T4"
    },
    "kernelspec": {
      "name": "python3",
      "display_name": "Python 3"
    },
    "language_info": {
      "name": "python"
    },
    "accelerator": "GPU"
  },
  "cells": [
    {
      "cell_type": "code",
      "execution_count": null,
      "metadata": {
        "colab": {
          "base_uri": "https://localhost:8080/"
        },
        "id": "f6x_uBPtqrv6",
        "outputId": "c432e40d-f91e-4ab8-c588-85253eae4013"
      },
      "outputs": [
        {
          "output_type": "stream",
          "name": "stdout",
          "text": [
            "plz enter your name :yash\n",
            "bheed kam\n"
          ]
        }
      ],
      "source": [
        "# >>>>>>>>>>>>>>>>>>>>  logical operator <<<<<<<<<<<<<<<<<<<\n",
        "\n",
        "#AND\n",
        "\n",
        "#OR\n",
        "\n",
        "#NOT\n",
        "\n",
        "guest_list=[ 'rohan','mohan','syam','ritik']\n",
        "friend_list=['rocky','jack','ravi','preet','mohan']\n",
        "name=input('plz enter your name :')\n",
        "#if name in guest_list and name in friend_list:\n",
        "if name in guest_list or name in friend_list:\n",
        "\n",
        "    print('WELCOME')\n",
        "\n",
        "else:\n",
        "    print('bheed kam')\n"
      ]
    }
  ]
}