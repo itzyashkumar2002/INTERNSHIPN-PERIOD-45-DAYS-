{
  "nbformat": 4,
  "nbformat_minor": 0,
  "metadata": {
    "colab": {
      "provenance": [],
      "gpuType": "T4"
    },
    "kernelspec": {
      "name": "python3",
      "display_name": "Python 3"
    },
    "language_info": {
      "name": "python"
    },
    "accelerator": "GPU"
  },
  "cells": [
    {
      "cell_type": "code",
      "execution_count": null,
      "metadata": {
        "colab": {
          "base_uri": "https://localhost:8080/"
        },
        "id": "UHD2P8MuD8h6",
        "outputId": "40fbe10d-8039-40f8-ea8d-ce3e86d7b740"
      },
      "outputs": [
        {
          "output_type": "stream",
          "name": "stdout",
          "text": [
            "hello world!\n",
            "hello world!\n",
            "hello world!\n",
            "hello world!\n",
            "hello world!\n",
            "hello world!\n",
            "hello world!\n",
            "hello world!\n",
            "hello world!\n",
            "hello world!\n"
          ]
        }
      ],
      "source": [
        " #<<<<<<<< LOOP  >>>>>>>>>>>\n",
        "\n",
        "#loop is used to give value more than 1 hello world 10 times\n",
        "#block of codes single or multiple times used as in the loop\n",
        "#whenever we use multiple tiomes\n",
        "\n",
        "#for , while loop are the types\n",
        "#  FOR LOOP :-    when you know about the iterations 10,20,30,40 etc...\n",
        "#WHILE LOOP:-     when you cant knowabout the iteration or any other condition like infinity\n",
        "\n",
        "#for(int i =0;i<=10:i++)\n",
        "#python syntax :-     :- for i range (start,stop,jump): (next line k 4 spce bar lga kr identation maintain rakho)\n",
        "#                     :-     block of codes\n",
        "\n",
        "\n",
        "\n",
        "#for loop syntax :-\n",
        "\n",
        "for i in range (1,11):\n",
        "    print(\"hello world!\" )\n"
      ]
    },
    {
      "cell_type": "code",
      "source": [
        "\n",
        "for i in range (1,11):\n",
        "    print(\"hello world!\" ,i )\n",
        "\n",
        "\n",
        "\n",
        "for i in range (11):\n",
        "    print(\"hello world!\" ,i )\n",
        "print(\"for loop end\")"
      ],
      "metadata": {
        "colab": {
          "base_uri": "https://localhost:8080/"
        },
        "id": "9xj8MmATKiqp",
        "outputId": "bb5950b7-2096-405e-a810-3da53cb5f1e4"
      },
      "execution_count": null,
      "outputs": [
        {
          "output_type": "stream",
          "name": "stdout",
          "text": [
            "hello world! 1\n",
            "hello world! 2\n",
            "hello world! 3\n",
            "hello world! 4\n",
            "hello world! 5\n",
            "hello world! 6\n",
            "hello world! 7\n",
            "hello world! 8\n",
            "hello world! 9\n",
            "hello world! 10\n",
            "hello world! 0\n",
            "hello world! 1\n",
            "hello world! 2\n",
            "hello world! 3\n",
            "hello world! 4\n",
            "hello world! 5\n",
            "hello world! 6\n",
            "hello world! 7\n",
            "hello world! 8\n",
            "hello world! 9\n",
            "hello world! 10\n",
            "for loop end\n"
          ]
        }
      ]
    },
    {
      "cell_type": "code",
      "source": [
        "# without loop to find number or indexing in it taking membership operator ( in and not in )\n",
        "# ls=[25,41,63,96,85,74,45,8,62,12]\n",
        "# if 85 in ls :\n",
        "#     print (\"present\" )\n",
        "# else:\n",
        "#     print (\"absent\")\n",
        "\n",
        "\n",
        "# for loop mused for finding\n",
        "ls=[25,41,63,96,85,74,45,8,62,12]\n",
        "n=len(ls)\n",
        "for i in range (n):\n",
        "#   print(ls[i])     #o-9\n",
        "  if ls[i]==85:\n",
        "    print (\"present\",i)            #i is used for indexing value in it\n",
        "    break\n",
        "  else:\n",
        "    print (\"absent\")\n"
      ],
      "metadata": {
        "colab": {
          "base_uri": "https://localhost:8080/"
        },
        "id": "dYYQLU6BJOyw",
        "outputId": "83370bd2-cbf4-4c64-a5d0-d695061a3442"
      },
      "execution_count": null,
      "outputs": [
        {
          "output_type": "stream",
          "name": "stdout",
          "text": [
            "absent\n",
            "absent\n",
            "absent\n",
            "absent\n",
            "present 4\n"
          ]
        }
      ]
    },
    {
      "cell_type": "code",
      "source": [
        "# in for loop if else condition occur\n",
        "\n",
        "ls=[25,41,63,96,85,74,45,8,62,12,41,32,856,96,97,]\n",
        "n=len(ls)\n",
        "for i in range (n):\n",
        "    if ls[i]<=50:\n",
        "        print(ls[i])\n",
        "\n",
        "    else:\n",
        "        print(\"absent\")"
      ],
      "metadata": {
        "colab": {
          "base_uri": "https://localhost:8080/"
        },
        "id": "RktwnYMyI6pn",
        "outputId": "6ed83ddd-fcdc-4a6f-fbfa-ba00cccd8fc1"
      },
      "execution_count": null,
      "outputs": [
        {
          "output_type": "stream",
          "name": "stdout",
          "text": [
            "25\n",
            "41\n",
            "absent\n",
            "absent\n",
            "absent\n",
            "absent\n",
            "45\n",
            "8\n",
            "absent\n",
            "12\n",
            "41\n",
            "32\n",
            "absent\n",
            "absent\n",
            "absent\n"
          ]
        }
      ]
    },
    {
      "cell_type": "code",
      "source": [
        "# for finding the lesse and graeters numbers in it\n",
        "\n",
        "ls=[25,41,63,96,85,74,45,8,62,12,41,32,856,96,97,395]\n",
        "\n",
        "for item in ls :\n",
        "    if item<=50:\n",
        "        print(item)"
      ],
      "metadata": {
        "colab": {
          "base_uri": "https://localhost:8080/"
        },
        "id": "gKHs162kIZjs",
        "outputId": "7496245f-d189-4bb1-e1e7-713e812268cd"
      },
      "execution_count": null,
      "outputs": [
        {
          "output_type": "stream",
          "name": "stdout",
          "text": [
            "25\n",
            "41\n",
            "45\n",
            "8\n",
            "12\n",
            "41\n",
            "32\n"
          ]
        }
      ]
    },
    {
      "cell_type": "code",
      "source": [
        "\n",
        "ls = [25,41,63,96,85,74,45,8,62,12,41,32,856,96,97,94]\n",
        "#even numbers loopm (for,while, both)\n",
        "# for item in ls :\n",
        "#     if (item%2!=0):\n",
        "#         print(\"odd \",item)\n",
        "#     else:\n",
        "#         print(\"even\",item)\n",
        "\n",
        "\n",
        " # if item % 2==0:         # even number find out\n",
        "\n",
        "# another method to solve odd and even numbers as an item\n",
        "for i  in ls:\n",
        "  if i%2==0:\n",
        "    print(\"even number\",i)\n",
        "    # print(\"i\")\n",
        "  else:\n",
        "    print(\"odd number\")"
      ],
      "metadata": {
        "colab": {
          "base_uri": "https://localhost:8080/"
        },
        "id": "JAatgUtmHT0F",
        "outputId": "52cc98db-b41a-405a-dd95-d06c77850fff"
      },
      "execution_count": null,
      "outputs": [
        {
          "output_type": "stream",
          "name": "stdout",
          "text": [
            "odd number\n",
            "odd number\n",
            "odd number\n",
            "even number 96\n",
            "i\n",
            "odd number\n",
            "even number 74\n",
            "i\n",
            "odd number\n",
            "even number 8\n",
            "i\n",
            "even number 62\n",
            "i\n",
            "even number 12\n",
            "i\n",
            "odd number\n",
            "even number 32\n",
            "i\n",
            "even number 856\n",
            "i\n",
            "even number 96\n",
            "i\n",
            "odd number\n",
            "even number 94\n",
            "i\n"
          ]
        }
      ]
    },
    {
      "cell_type": "code",
      "source": [
        "\n",
        "# WHILE LOOP :-   i=0 ( initialization )               print(\"welcome\")=10\n",
        "                  # while condition :\n",
        "                  #     block of codes\n",
        "\n",
        "#alternativr version of while loop advance choti\n",
        "\n",
        "condition =True\n",
        "while condition :\n",
        "   print(\"WELCOME\")\n",
        "   quiet= input(\"DO YOU WNAT TO quiet IT ? PRESS Y/y: \")\n",
        "   if quiet==\"Y\" or quiet==\"y\":\n",
        "    condition=False"
      ],
      "metadata": {
        "colab": {
          "base_uri": "https://localhost:8080/"
        },
        "id": "OmH7JajjFSvE",
        "outputId": "53a1992e-f90f-408f-e936-c1d2384e367f"
      },
      "execution_count": null,
      "outputs": [
        {
          "name": "stdout",
          "output_type": "stream",
          "text": [
            "WELCOME\n",
            "DO YOU WNAT TO quiet IT ? PRESS Y/y: \n",
            "WELCOME\n",
            "DO YOU WNAT TO quiet IT ? PRESS Y/y: \n",
            "WELCOME\n",
            "DO YOU WNAT TO quiet IT ? PRESS Y/y: y\n"
          ]
        }
      ]
    },
    {
      "cell_type": "code",
      "source": [
        "# for indexing value and just print only which we wnted to written in command as output\n",
        "# jab bhi while loop ko rokana hta h hum i+=any value ka use krte h\n",
        "i=0\n",
        "while i<=10:\n",
        "    print(\"welcome\",i)\n",
        "    i+=1       #i=i+1"
      ],
      "metadata": {
        "colab": {
          "base_uri": "https://localhost:8080/"
        },
        "id": "ZnJqLG4gF28Z",
        "outputId": "1df1bbaf-2ac3-48b7-fe67-db2702b53e17"
      },
      "execution_count": null,
      "outputs": [
        {
          "output_type": "stream",
          "name": "stdout",
          "text": [
            "welcome 0\n",
            "welcome 1\n",
            "welcome 2\n",
            "welcome 3\n",
            "welcome 4\n",
            "welcome 5\n",
            "welcome 6\n",
            "welcome 7\n",
            "welcome 8\n",
            "welcome 9\n",
            "welcome 10\n"
          ]
        }
      ]
    },
    {
      "cell_type": "code",
      "source": [
        "# #QUESTION GIVEN BY SIR PRACTICE\n",
        "\n",
        "ls = [25,41,63,96,85,74,45,8,62,12,41,32,856,96,97,94]\n",
        "# total_sum= sum(ls)\n",
        "# average=total_sum/len(ls)\n",
        "# print(\"sum of the list\",total_sum)\n",
        "# print(\"average of the sumn \",average)\n",
        "\n",
        "\n",
        "total_sum =0\n",
        "len =0\n",
        "for num in ls:\n",
        "    total_sum+=num\n",
        "    len += 1\n",
        "\n",
        "average =total_sum /len\n",
        "\n",
        "print(\"sum of the list\",total_sum)\n",
        "print(\"average of the sumn \",average)"
      ],
      "metadata": {
        "colab": {
          "base_uri": "https://localhost:8080/"
        },
        "id": "IUM59S9NE0Sf",
        "outputId": "d02f7c34-9d13-4439-b52f-7a8aeab936b9"
      },
      "execution_count": null,
      "outputs": [
        {
          "output_type": "stream",
          "name": "stdout",
          "text": [
            "sum of the list 1727\n",
            "average of the sumn  107.9375\n"
          ]
        }
      ]
    }
  ]
}