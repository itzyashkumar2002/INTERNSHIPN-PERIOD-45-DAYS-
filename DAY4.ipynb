{
  "nbformat": 4,
  "nbformat_minor": 0,
  "metadata": {
    "colab": {
      "provenance": [],
      "gpuType": "T4"
    },
    "kernelspec": {
      "name": "python3",
      "display_name": "Python 3"
    },
    "language_info": {
      "name": "python"
    },
    "accelerator": "GPU"
  },
  "cells": [
    {
      "cell_type": "code",
      "source": [
        "#operators<<<<<>>>>>>>>>>>>>>>>>>\n",
        "\n",
        "#AIRTHMATIC OPERATOR\n",
        "\n",
        "num1=10\n",
        "num2=20\n",
        "print(num1+num2)\n",
        "print(num1-num2)\n",
        "print(num1*num2)\n",
        "print(num1/num2)\n",
        "print(num1//num2)\n",
        "print(num1%num2)\n",
        "print(num1**num2)\n"
      ],
      "metadata": {
        "id": "zwtRMddzoCFI",
        "colab": {
          "base_uri": "https://localhost:8080/"
        },
        "outputId": "e07c1178-01a0-438b-ba16-d90171f20953"
      },
      "execution_count": null,
      "outputs": [
        {
          "output_type": "stream",
          "name": "stdout",
          "text": [
            "30\n",
            "-10\n",
            "200\n",
            "0.5\n",
            "0\n",
            "10\n",
            "100000000000000000000\n"
          ]
        }
      ]
    },
    {
      "cell_type": "code",
      "source": [
        "# num1=input(\"plz enter first number:\")\n",
        "# num2=input(\"plz enter second number:\")\n",
        "\n",
        "num1=int(input(\"plz enter first number:\"))\n",
        "num2=int(input(\"plz enter second number:\"))\n",
        "print(num1)\n",
        "print(num2)\n",
        "print(type(num1))\n",
        "print(type(num2))\n",
        "\n",
        "\n"
      ],
      "metadata": {
        "id": "vN8iuRasoCC4",
        "colab": {
          "base_uri": "https://localhost:8080/"
        },
        "outputId": "7022b098-1cfc-4dd6-f85f-93a01c6b45d9"
      },
      "execution_count": null,
      "outputs": [
        {
          "output_type": "stream",
          "name": "stdout",
          "text": [
            "plz enter first number:45\n",
            "plz enter second number:89\n",
            "45\n",
            "89\n",
            "<class 'int'>\n",
            "<class 'int'>\n"
          ]
        }
      ]
    },
    {
      "cell_type": "code",
      "source": [
        "num1=int(input(\"plz enter first number:\"))\n",
        "num2=int(input(\"plz enter second number:\"))\n",
        "\n",
        "print(num1 % num2)   #JITNA REMAINDER HGGA VHI ANS HGGA ACCC TO DIVISION RULE"
      ],
      "metadata": {
        "id": "w6-lAPrioCAe",
        "colab": {
          "base_uri": "https://localhost:8080/"
        },
        "outputId": "bf7dfeeb-ccdf-4396-a3e6-c4f3d3514518"
      },
      "execution_count": null,
      "outputs": [
        {
          "output_type": "stream",
          "name": "stdout",
          "text": [
            "plz enter first number:45\n",
            "plz enter second number:23\n",
            "22\n"
          ]
        }
      ]
    },
    {
      "cell_type": "code",
      "source": [
        "#ASSIGNMENT OPERATOR\n",
        "\n",
        "# =       x=5          x=5\n",
        "# +=      x+=3        x=x+3\n",
        "# *=      x-=3        x=x-3\n",
        "# /=      x*=3        x=x*3\n",
        "# %=             remainder\n",
        "# //=           agr value 2.78 ans hai toh ans floor division ka 2 hi aygga\n",
        "# **=\n",
        "\n",
        "# num1=10\n",
        "# num1 += 5            #num=mum+5     15=10+5\n",
        "# print(num1)\n",
        "\n",
        "num=15\n",
        "num1%=3\n",
        "print(num1)               #remainder 0"
      ],
      "metadata": {
        "id": "ImXIgYqkoB9x",
        "colab": {
          "base_uri": "https://localhost:8080/"
        },
        "outputId": "02d6d562-5d40-4f0b-b5f1-500a419de46f"
      },
      "execution_count": null,
      "outputs": [
        {
          "output_type": "stream",
          "name": "stdout",
          "text": [
            "0\n"
          ]
        }
      ]
    },
    {
      "cell_type": "code",
      "source": [
        "#MEMBERSHIP OPERATORS\n",
        "\n",
        "guest_list=[\"mohit\",\"rohit\",\"shyam\",\"rinku\",\"harish\"]\n",
        "name=input(\"plz enter your name :\")\n",
        "\n",
        "# if name in guest_list:                                     #in operator    true if exist   (x in y)\n",
        "\n",
        "if name not in guest_list:                                   #not in operator\n",
        "    print(\"present\")\n",
        "\n",
        "else:\n",
        "    print(\"absent\")"
      ],
      "metadata": {
        "colab": {
          "base_uri": "https://localhost:8080/"
        },
        "id": "hrZh1n_H_V3o",
        "outputId": "e24f2d0b-35b0-43c8-e599-655ee04b19c5"
      },
      "execution_count": null,
      "outputs": [
        {
          "output_type": "stream",
          "name": "stdout",
          "text": [
            "plz enter your name :shivam\n",
            "present\n"
          ]
        }
      ]
    },
    {
      "cell_type": "code",
      "source": [
        "#COMPARISON OPERATOR\n",
        "\n",
        "num1=int(input(\"plz enter first number:\"))\n",
        "num2=int(input(\"plz enter second number:\"))\n",
        "\n",
        "# print(num1 == num2)        # if first and second no is differend condition FALSE if in same thn it say TRUE\n",
        "\n",
        "#print(num1 != num2)           # if first and second no is differend condition TRUE if in same thn it say FALSE\n",
        "#print(num1 < num2)              #GRATER SIGN\n",
        "print(num1 > num2)              #LESSER SIGN\n",
        "print(num1 <= num2)\n",
        "print(num1 >= num2)"
      ],
      "metadata": {
        "id": "uoGfyT5AoB69",
        "colab": {
          "base_uri": "https://localhost:8080/"
        },
        "outputId": "61e4cbce-95ea-4a95-b959-f252e6c42dff"
      },
      "execution_count": null,
      "outputs": [
        {
          "output_type": "stream",
          "name": "stdout",
          "text": [
            "plz enter first number:10\n",
            "plz enter second number:10\n",
            "False\n",
            "True\n",
            "True\n"
          ]
        }
      ]
    },
    {
      "cell_type": "code",
      "source": [
        "#CONDITIONAL STATEMENT   (IF-ELSE)                         (curly brackets are not allowed)\n",
        "\n",
        "relative=input(\"are you relative person of my family press y:\")\n",
        "if relative == 'y':                                                                      #  ((:)   indentation)\n",
        "    print(\"welcome\")\n",
        "\n",
        "elif relative ==\"padosi\":\n",
        "    print(\"no need to welcome\")\n",
        "\n",
        "else:\n",
        "    print(\"bheed kam\")\n"
      ],
      "metadata": {
        "id": "zQSQVMENoB4Y",
        "colab": {
          "base_uri": "https://localhost:8080/"
        },
        "outputId": "280e629a-9c7a-4b2d-cd54-91637e859f8d"
      },
      "execution_count": null,
      "outputs": [
        {
          "output_type": "stream",
          "name": "stdout",
          "text": [
            "are you relative person of my family press y:padosi\n",
            "no need to welcome\n"
          ]
        }
      ]
    }
  ]
}